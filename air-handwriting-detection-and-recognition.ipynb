{
 "cells": [
  {
   "cell_type": "markdown",
   "metadata": {},
   "source": [
    "# Detection"
   ]
  },
  {
   "cell_type": "code",
   "execution_count": 1,
   "metadata": {},
   "outputs": [],
   "source": [
    "#importing the libraries\n",
    "\n",
    "import numpy as np \n",
    "import cv2\n",
    "from collections import deque \n",
    "from color_selector import color_detector"
   ]
  },
  {
   "cell_type": "code",
   "execution_count": 2,
   "metadata": {},
   "outputs": [],
   "source": [
    "# calling the colour function \n",
    "color_detector()"
   ]
  },
  {
   "cell_type": "code",
   "execution_count": 3,
   "metadata": {},
   "outputs": [],
   "source": [
    "# color_arr()\n",
    "\n",
    "bpoints = [deque(maxlen = 512)] \n",
    "gpoints = [deque(maxlen = 512)] \n",
    "ypoints = [deque(maxlen = 512)] \n",
    "rpoints = [deque(maxlen = 512)] "
   ]
  },
  {
   "cell_type": "code",
   "execution_count": 4,
   "metadata": {},
   "outputs": [],
   "source": [
    "# Now to mark the pointers in the above colour array we introduce some index values Which would mark their positions  \n",
    "\n",
    "blue_index = 0\n",
    "green_index = 0\n",
    "yellow_index = 0\n",
    "red_index = 0"
   ]
  },
  {
   "cell_type": "code",
   "execution_count": 5,
   "metadata": {},
   "outputs": [],
   "source": [
    "# The kernel is used for dilation of contour\n",
    "\n",
    "kernel = np.ones((5, 5))"
   ]
  },
  {
   "cell_type": "code",
   "execution_count": 6,
   "metadata": {},
   "outputs": [],
   "source": [
    "# The ink colours for the drawing purpose \n",
    " \n",
    "colors = [(255, 0, 0), (0, 255, 0), (0, 225, 255), (0, 0, 255)] \n",
    "colorIndex = 0"
   ]
  },
  {
   "cell_type": "code",
   "execution_count": 7,
   "metadata": {},
   "outputs": [],
   "source": [
    "# Setting up the drawing board AKA The canvas \n",
    "\n",
    "paintWindow = np.zeros((471, 636, 3)) + 255\n",
    "\n",
    "cv2.namedWindow('Paint', cv2.WINDOW_AUTOSIZE) "
   ]
  },
  {
   "cell_type": "code",
   "execution_count": 8,
   "metadata": {},
   "outputs": [
    {
     "name": "stdout",
     "output_type": "stream",
     "text": [
      "F has been pressed!\n"
     ]
    },
    {
     "ename": "KeyboardInterrupt",
     "evalue": "",
     "output_type": "error",
     "traceback": [
      "\u001b[0;31m---------------------------------------------------------------------------\u001b[0m",
      "\u001b[0;31mKeyboardInterrupt\u001b[0m                         Traceback (most recent call last)",
      "\u001b[0;32m/var/folders/xp/prhddszn5zq2zgk4bth_djh40000gn/T/ipykernel_1860/3193612604.py\u001b[0m in \u001b[0;36m<module>\u001b[0;34m\u001b[0m\n\u001b[1;32m     57\u001b[0m \u001b[0;34m\u001b[0m\u001b[0m\n\u001b[1;32m     58\u001b[0m     \u001b[0;31m# Flipping the frame to see same side of the user\u001b[0m\u001b[0;34m\u001b[0m\u001b[0;34m\u001b[0m\u001b[0m\n\u001b[0;32m---> 59\u001b[0;31m     \u001b[0mframe\u001b[0m \u001b[0;34m=\u001b[0m \u001b[0mcv2\u001b[0m\u001b[0;34m.\u001b[0m\u001b[0mflip\u001b[0m\u001b[0;34m(\u001b[0m\u001b[0mframe\u001b[0m\u001b[0;34m,\u001b[0m \u001b[0;36m1\u001b[0m\u001b[0;34m)\u001b[0m\u001b[0;34m\u001b[0m\u001b[0;34m\u001b[0m\u001b[0m\n\u001b[0m\u001b[1;32m     60\u001b[0m     \u001b[0mhsv\u001b[0m \u001b[0;34m=\u001b[0m \u001b[0mcv2\u001b[0m\u001b[0;34m.\u001b[0m\u001b[0mcvtColor\u001b[0m\u001b[0;34m(\u001b[0m\u001b[0mframe\u001b[0m\u001b[0;34m,\u001b[0m \u001b[0mcv2\u001b[0m\u001b[0;34m.\u001b[0m\u001b[0mCOLOR_BGR2HSV\u001b[0m\u001b[0;34m)\u001b[0m\u001b[0;34m\u001b[0m\u001b[0;34m\u001b[0m\u001b[0m\n\u001b[1;32m     61\u001b[0m \u001b[0;34m\u001b[0m\u001b[0m\n",
      "\u001b[0;31mKeyboardInterrupt\u001b[0m: "
     ]
    }
   ],
   "source": [
    "#importing the libraries\n",
    "\n",
    "import numpy as np \n",
    "import cv2 \n",
    "from collections import deque \n",
    "from color_selector import color_detector\n",
    "import time\n",
    "import os\n",
    "# from inference import LetterPredictor\n",
    "\n",
    "\n",
    "\n",
    "# calling the colour function \n",
    "color_detector()\n",
    "\n",
    "\n",
    "# color_arr()\n",
    "\n",
    "bpoints = [deque(maxlen = 512)] \n",
    "gpoints = [deque(maxlen = 512)] \n",
    "ypoints = [deque(maxlen = 512)] \n",
    "rpoints = [deque(maxlen = 512)] \n",
    "\n",
    "# Now to mark the pointers in the above colour array we introduce some index values Which would mark their positions  \n",
    "\n",
    "blue_index = 0\n",
    "green_index = 0\n",
    "yellow_index = 0\n",
    "red_index = 0\n",
    "\n",
    "# The kernel is used for dilation of contour\n",
    "\n",
    "kernel = np.ones((5, 5)) \n",
    "\n",
    "# The ink colours for the drawing purpose \n",
    " \n",
    "colors = [(255, 0, 0), (0, 255, 0), (0, 225, 255), (0, 0, 255)] \n",
    "colorIndex = 0\n",
    "\n",
    "# Setting up the drawing board AKA The canvas \n",
    "\n",
    "paintWindow = np.zeros((471, 636, 3)) + 255\n",
    "\n",
    "cv2.namedWindow('Paint', cv2.WINDOW_AUTOSIZE) \n",
    "\n",
    "\n",
    "# loading the installed/attached camera of the device \n",
    " \n",
    "cap = cv2.VideoCapture(0) \n",
    "\n",
    "while True: \n",
    "\n",
    "    # Reading the camera frame \n",
    "    ret, frame = cap.read() \n",
    "    # For saving\n",
    "    # out = cv2.VideoWriter(\"Paint-Window.mp4\", cv2.VideoWriter_fourcc(*'XVID'), 1, (frame.shape[1], frame.shape[0]))\n",
    "    \n",
    "    # Flipping the frame to see same side of the user  \n",
    "    frame = cv2.flip(frame, 1) \n",
    "    hsv = cv2.cvtColor(frame, cv2.COLOR_BGR2HSV) \n",
    "\n",
    "    # Getting the new positions of the trackbar and setting the new HSV values \n",
    "\n",
    "    u_hue = cv2.getTrackbarPos(\"Upper Hue\", \"Color detectors\") \n",
    "    u_saturation = cv2.getTrackbarPos(\"Upper Saturation\", \"Color detectors\") \n",
    "    u_value = cv2.getTrackbarPos(\"Upper Value\",\"Color detectors\") \n",
    "    l_hue = cv2.getTrackbarPos(\"Lower Hue\", \"Color detectors\") \n",
    "    l_saturation = cv2.getTrackbarPos(\"Lower Saturation\", \"Color detectors\") \n",
    "    l_value = cv2.getTrackbarPos(\"Lower Value\", \"Color detectors\") \n",
    "    Upper_hsv = np.array([u_hue, u_saturation, u_value]) \n",
    "    Lower_hsv = np.array([l_hue, l_saturation, l_value]) \n",
    "\n",
    "    # Adding the colour buttons to the live frame to choose color\n",
    "    frame = cv2.rectangle(frame, (35, 1), (135, 65), (122, 122, 122), -1) \n",
    "    frame = cv2.rectangle(frame, (160, 1), (255, 65), (255, 0, 0), -1) \n",
    "    frame = cv2.rectangle(frame, (275, 1), (370, 65), (0, 255, 0), -1) \n",
    "    frame = cv2.rectangle(frame, (390, 1), (485, 65), (0, 255, 255), -1) \n",
    "    frame = cv2.rectangle(frame, (505, 1), (600, 65), (0, 0, 255), -1) \n",
    "\n",
    "    cv2.putText(frame, \"Clear All\", (55, 33), cv2.FONT_HERSHEY_SIMPLEX, 0.4, (255, 255, 255), 2, cv2.LINE_AA) \n",
    "\n",
    "    cv2.putText(frame, \"Blue Color\", (175, 33), cv2.FONT_HERSHEY_SIMPLEX, 0.4, (255, 255, 255), 2, cv2.LINE_AA) \n",
    "    \n",
    "    cv2.putText(frame, \"Green Color\", (285, 33), cv2.FONT_HERSHEY_SIMPLEX, 0.4, (255, 255, 255), 2, cv2.LINE_AA) \n",
    "\n",
    "    cv2.putText(frame, \"Yellow Color\", (400, 33), cv2.FONT_HERSHEY_SIMPLEX, 0.4, (150, 150, 150), 2, cv2.LINE_AA) \n",
    "\n",
    "    cv2.putText(frame, \"Red Color\", (520, 33), cv2.FONT_HERSHEY_SIMPLEX, 0.4, (255, 255, 255), 2, cv2.LINE_AA) \n",
    "\n",
    "\n",
    "    # masking out the pointer for it's identification in the frame \n",
    "\n",
    "    Mask = cv2.inRange(hsv, Lower_hsv, Upper_hsv) \n",
    "    Mask = cv2.erode(Mask, kernel, iterations = 1) \n",
    "    Mask = cv2.morphologyEx(Mask, cv2.MORPH_OPEN, kernel) \n",
    "    Mask = cv2.dilate(Mask, kernel, iterations = 1) \n",
    "\n",
    "    # Now contouring the pointers post identification \n",
    "    lower_red = np.array([0, 100, 100])\n",
    "    upper_red = np.array([10, 255, 255])\n",
    "    red_mask = cv2.inRange(hsv, lower_red, upper_red)\n",
    "    red_mask = cv2.erode(red_mask, kernel, iterations=1)\n",
    "    red_mask = cv2.morphologyEx(red_mask, cv2.MORPH_OPEN, kernel)\n",
    "    red_mask = cv2.dilate(red_mask, kernel, iterations=1)\n",
    "\n",
    "    countours, _ = cv2.findContours(red_mask, cv2.RETR_EXTERNAL, cv2.CHAIN_APPROX_SIMPLE)\n",
    "\n",
    "    centre = None\n",
    "\n",
    "    # If there are any contours formed \n",
    "    if len(countours) > 0: \n",
    "        \n",
    "        # sorting the contours for the biggest \n",
    "        countour = sorted(countours, key = cv2.contourArea, reverse = True)[0] \n",
    "        # Get the radius of the cirlce formed around the found contour   \n",
    "        ((x, y), radius) = cv2.minEnclosingCircle(countour) \n",
    "        \n",
    "        # Drawing the circle boundary around the contour \n",
    "        cv2.circle(frame, (int(x), int(y)), int(radius), (0, 255, 255), 2) \n",
    "        \n",
    "        # Calculating the centre of the detected contour \n",
    "        M = cv2.moments(countour) \n",
    "        centre = (int(M['m10'] / M['m00']), int(M['m01'] / M['m00'])) \n",
    "        \n",
    "        # Now checking if the user clicked on another button on the screen (the 4 buttons that were mentioned Y,G,B,R and clear all)\n",
    "        if centre[1] <= 65: \n",
    "            \n",
    "            # Clear Button \n",
    "            if 35 <= centre[0] <= 135: \n",
    "                bpoints = [deque(maxlen = 512)] \n",
    "                gpoints = [deque(maxlen = 512)] \n",
    "                ypoints = [deque(maxlen = 512)] \n",
    "                rpoints = [deque(maxlen = 512)] \n",
    "\n",
    "                blue_index = 0\n",
    "                green_index = 0\n",
    "                yellow_index = 0\n",
    "                red_index = 0\n",
    "\n",
    "                paintWindow[67:, :, :] = 255\n",
    "            elif 160 <= centre[0] and centre[0] <= 255: \n",
    "                colorIndex = 0 # Blue \n",
    "                    \n",
    "            elif 275 <= centre[0] and centre[0] <= 370: \n",
    "                colorIndex = 1 # Green \n",
    "            elif 390 <= centre[0] and centre[0] <= 485: \n",
    "                colorIndex = 2 # Yellow\n",
    "            elif 505 <= centre[0] and centre[0] <= 600: \n",
    "                colorIndex = 3 # Red \n",
    "        else : \n",
    "            if colorIndex == 0: \n",
    "                bpoints[blue_index].appendleft(centre) \n",
    "            elif colorIndex == 1: \n",
    "                gpoints[green_index].appendleft(centre) \n",
    "            elif colorIndex == 2: \n",
    "                ypoints[yellow_index].appendleft(centre) \n",
    "            elif colorIndex == 3: \n",
    "                rpoints[red_index].appendleft(centre) \n",
    "                \n",
    "    # Appending the next deques if nothing is detected\n",
    "\n",
    "    else: \n",
    "        bpoints.append(deque(maxlen = 512)) \n",
    "        blue_index += 1\n",
    "        gpoints.append(deque(maxlen = 512)) \n",
    "        green_index += 1\n",
    "        ypoints.append(deque(maxlen = 512)) \n",
    "        yellow_index += 1\n",
    "        rpoints.append(deque(maxlen = 512)) \n",
    "        red_index += 1\n",
    "\n",
    "    # Drawing the lines of every colour on the canvas and the track frame window\n",
    "    \n",
    "    points = [bpoints, gpoints, ypoints, rpoints] \n",
    "    for i in range(len(points)): \n",
    "        for j in range(len(points[i])): \n",
    "            for k in range(1, len(points[i][j])): \n",
    "                if points[i][j][k - 1] is None or points[i][j][k] is None: \n",
    "                    continue\n",
    "                    \n",
    "                cv2.line(frame, points[i][j][k - 1], points[i][j][k], colors[i], 25) \n",
    "                cv2.line(paintWindow, points[i][j][k - 1], points[i][j][k], colors[i], 25) \n",
    "\n",
    "    key = cv2.waitKey(1)    \n",
    "\n",
    "    # letter_predictor = LetterPredictor()        \n",
    "    if key & 0xFF == ord('f'):         \n",
    "        print(\"F has been pressed!\")   \n",
    "        cv2.imwrite(\"/Users/khyati/Desktop/model 4/air-handwriting-detection-and-recognition/src/last_frame.jpg\", paintWindow)\n",
    "        # letter_predictor.predict_and_show_letter()\n",
    "        \n",
    "\n",
    "\n",
    "\n",
    "\n",
    "    # Displaying/running all the 3 windows \n",
    "    cv2.imshow(\"Live Tracking\", frame) \n",
    "    cv2.imshow(\"Paint\", paintWindow) \n",
    "    cv2.imshow(\"mask\", Mask) \n",
    "    \n",
    "    # For quitting/breaking the loop - press and hold ctrl+q twice \n",
    "    if cv2.waitKey(1) & 0xFF == ord(\"q\"): \n",
    "        break\n",
    "\n",
    "# Releasing the camera and all the other resources of the device  \n",
    "cap.release() \n",
    "cv2.destroyAllWindows() \n"
   ]
  },
  {
   "cell_type": "markdown",
   "metadata": {},
   "source": [
    "# Recognition"
   ]
  },
  {
   "cell_type": "code",
   "execution_count": null,
   "metadata": {},
   "outputs": [
    {
     "ename": "",
     "evalue": "",
     "output_type": "error",
     "traceback": [
      "\u001b[1;31mThe Kernel crashed while executing code in the current cell or a previous cell. \n",
      "\u001b[1;31mPlease review the code in the cell(s) to identify a possible cause of the failure. \n",
      "\u001b[1;31mClick <a href='https://aka.ms/vscodeJupyterKernelCrash'>here</a> for more info. \n",
      "\u001b[1;31mView Jupyter <a href='command:jupyter.viewOutput'>log</a> for further details."
     ]
    }
   ],
   "source": [
    "#from keras.datasets import mnist\n",
    "from keras.models import Sequential\n",
    "from keras.layers import Dense, Flatten, Conv2D, MaxPool2D, Dropout\n",
    "#from keras.optimizers import Adam\n",
    "#from keras.optimizers import SGD\n",
    "from keras.callbacks import ReduceLROnPlateau, EarlyStopping\n",
    "from keras.utils import np_utils"
   ]
  },
  {
   "cell_type": "code",
   "execution_count": null,
   "metadata": {},
   "outputs": [],
   "source": [
    "import tensorflow as tf\n",
    "import matplotlib.pyplot as plt\n",
    "import cv2\n",
    "import numpy as np\n",
    "from tensorflow.keras.utils import to_categorical\n",
    "import pandas as pd\n",
    "import numpy as np\n",
    "from sklearn.model_selection import train_test_split\n",
    "import matplotlib.pyplot as plt\n",
    "#from tqdm import tqdm_notebook\n",
    "from sklearn.utils import shuffle\n",
    "from PIL import Image\n",
    "# from tensorflow.keras.optimizers import Adam"
   ]
  },
  {
   "cell_type": "code",
   "execution_count": null,
   "metadata": {},
   "outputs": [],
   "source": [
    "from PIL import Image"
   ]
  },
  {
   "cell_type": "code",
   "execution_count": null,
   "metadata": {},
   "outputs": [],
   "source": [
    "import numpy as np"
   ]
  },
  {
   "cell_type": "code",
   "execution_count": null,
   "metadata": {},
   "outputs": [],
   "source": [
    "import cv2\n",
    "import pandas as pd"
   ]
  },
  {
   "cell_type": "code",
   "execution_count": null,
   "metadata": {},
   "outputs": [],
   "source": [
    "# Read the data...\n",
    "data = pd.read_csv(r\"/Users/khyati/Desktop/A_Z Handwritten Data.csv\").astype('float32')"
   ]
  },
  {
   "cell_type": "code",
   "execution_count": null,
   "metadata": {},
   "outputs": [],
   "source": [
    "# Split data the X - Our data , and y - the prdict label\n",
    "X = data.drop('0',axis = 1)\n",
    "y = data['0']"
   ]
  },
  {
   "cell_type": "code",
   "execution_count": null,
   "metadata": {},
   "outputs": [],
   "source": [
    "import numpy as np\n",
    "from sklearn.model_selection import train_test_split"
   ]
  },
  {
   "cell_type": "code",
   "execution_count": null,
   "metadata": {},
   "outputs": [
    {
     "name": "stdout",
     "output_type": "stream",
     "text": [
      "Train data shape:  (297960, 28, 28)\n",
      "Test data shape:  (74490, 28, 28)\n"
     ]
    }
   ],
   "source": [
    "# Reshaping the data in csv file so that it can be displayed as an image...\n",
    "\n",
    "train_x, test_x, train_y, test_y = train_test_split(X, y, test_size = 0.2)\n",
    "train_x = np.reshape(train_x.values, (train_x.shape[0], 28,28))\n",
    "test_x = np.reshape(test_x.values, (test_x.shape[0], 28,28))\n",
    "\n",
    "\n",
    "print(\"Train data shape: \", train_x.shape)\n",
    "print(\"Test data shape: \", test_x.shape)"
   ]
  },
  {
   "cell_type": "code",
   "execution_count": null,
   "metadata": {},
   "outputs": [],
   "source": [
    "# Dictionary for getting characters from index values...\n",
    "\n",
    "word_dict = {0:'A',1:'B',2:'C',3:'D',4:'E',5:'F',6:'G',7:'H',8:'I',9:'J',10:'K',11:'L',12:'M',13:'N',14:'O',15:'P',16:'Q',17:'R',18:'S',19:'T',20:'U',21:'V',22:'W',23:'X', 24:'Y',25:'Z'}"
   ]
  },
  {
   "cell_type": "code",
   "execution_count": null,
   "metadata": {},
   "outputs": [],
   "source": [
    "import matplotlib.pyplot as plt"
   ]
  },
  {
   "cell_type": "code",
   "execution_count": null,
   "metadata": {},
   "outputs": [
    {
     "data": {
      "image/png": "[encoded data removed]",
      "text/plain": [
       "<Figure size 1000x1000 with 1 Axes>"
      ]
     },
     "metadata": {},
     "output_type": "display_data"
    }
   ],
   "source": [
    "# Plotting the number of alphabets in the dataset...\n",
    "\n",
    "train_yint = np.int0(y)\n",
    "count = np.zeros(26, dtype='int')\n",
    "for i in train_yint:\n",
    "    count[i] +=1\n",
    "\n",
    "alphabets = []\n",
    "for i in word_dict.values():\n",
    "    alphabets.append(i)\n",
    "\n",
    "fig, ax = plt.subplots(1,1, figsize=(10,10))\n",
    "ax.barh(alphabets, count)\n",
    "\n",
    "plt.xlabel(\"Number of elements \")\n",
    "plt.ylabel(\"Alphabets\")\n",
    "plt.grid()\n",
    "plt.show()"
   ]
  },
  {
   "cell_type": "code",
   "execution_count": null,
   "metadata": {},
   "outputs": [],
   "source": [
    "from sklearn.utils import shuffle"
   ]
  },
  {
   "cell_type": "code",
   "execution_count": null,
   "metadata": {},
   "outputs": [
    {
     "data": {
      "image/png": "[encoded data removed]",
      "text/plain": [
       "<Figure size 1000x1000 with 9 Axes>"
      ]
     },
     "metadata": {},
     "output_type": "display_data"
    }
   ],
   "source": [
    "# Shuffling the data ...\n",
    "shuff = shuffle(train_x[:100])\n",
    "\n",
    "fig, ax = plt.subplots(3,3, figsize = (10,10))\n",
    "axes = ax.flatten()\n",
    "\n",
    "for i in range(9):\n",
    "    axes[i].imshow(np.reshape(shuff[i], (28,28)), cmap=\"Greys\")\n",
    "plt.show()"
   ]
  },
  {
   "cell_type": "code",
   "execution_count": null,
   "metadata": {},
   "outputs": [
    {
     "name": "stdout",
     "output_type": "stream",
     "text": [
      "New shape of train data:  (297960, 28, 28, 1)\n",
      "New shape of test data:  (74490, 28, 28, 1)\n"
     ]
    }
   ],
   "source": [
    "# Reshaping the training & test dataset so that it can be put in the model...\n",
    "\n",
    "train_X = train_x.reshape(train_x.shape[0],train_x.shape[1],train_x.shape[2],1)\n",
    "print(\"New shape of train data: \", train_X.shape)\n",
    "\n",
    "test_X = test_x.reshape(test_x.shape[0], test_x.shape[1], test_x.shape[2],1)\n",
    "print(\"New shape of test data: \", test_X.shape)"
   ]
  },
  {
   "cell_type": "code",
   "execution_count": null,
   "metadata": {},
   "outputs": [
    {
     "ename": "",
     "evalue": "",
     "output_type": "error",
     "traceback": [
      "\u001b[1;31mThe Kernel crashed while executing code in the current cell or a previous cell. \n",
      "\u001b[1;31mPlease review the code in the cell(s) to identify a possible cause of the failure. \n",
      "\u001b[1;31mClick <a href='https://aka.ms/vscodeJupyterKernelCrash'>here</a> for more info. \n",
      "\u001b[1;31mView Jupyter <a href='command:jupyter.viewOutput'>log</a> for further details."
     ]
    }
   ],
   "source": [
    "from tensorflow.keras.utils import to_categorical"
   ]
  },
  {
   "cell_type": "code",
   "execution_count": null,
   "metadata": {},
   "outputs": [],
   "source": [
    "# Converting the labels to categorical values...\n",
    "\n",
    "train_yOHE = to_categorical(train_y, num_classes = 26, dtype='int')\n",
    "print(\"New shape of train labels: \", train_yOHE.shape)\n",
    "\n",
    "test_yOHE = to_categorical(test_y, num_classes = 26, dtype='int')\n",
    "print(\"New shape of test labels: \", test_yOHE.shape)"
   ]
  },
  {
   "cell_type": "code",
   "execution_count": null,
   "metadata": {},
   "outputs": [],
   "source": [
    "# Choosing whether to train the model or not\n",
    "\n",
    "Training = False # Change this to False if you want to use trained model after initial training"
   ]
  },
  {
   "cell_type": "code",
   "execution_count": null,
   "metadata": {},
   "outputs": [],
   "source": [
    "# CNN model...\n",
    "if Training == True:\n",
    "    model = Sequential()\n",
    "\n",
    "    model.add(Conv2D(filters=32, kernel_size=(3, 3), activation='relu', input_shape=(28,28,1)))\n",
    "    model.add(MaxPool2D(pool_size=(2, 2), strides=2))\n",
    "\n",
    "    model.add(Conv2D(filters=64, kernel_size=(3, 3), activation='relu', padding = 'same'))\n",
    "    model.add(MaxPool2D(pool_size=(2, 2), strides=2))\n",
    "\n",
    "    model.add(Conv2D(filters=128, kernel_size=(3, 3), activation='relu', padding = 'valid'))\n",
    "    model.add(MaxPool2D(pool_size=(2, 2), strides=2))\n",
    "\n",
    "    model.add(Flatten())\n",
    "\n",
    "    model.add(Dense(64,activation =\"relu\"))\n",
    "    model.add(Dense(128,activation =\"relu\"))\n",
    "\n",
    "    model.add(Dense(26,activation =\"softmax\"))\n",
    "\n",
    "\n",
    "\n",
    "    # model.compile(optimizer = Adam(learning_rate=0.001), loss='categorical_crossentropy', metrics=['accuracy'])\n",
    "    model.compile(optimizer = 'adam', loss='categorical_crossentropy', metrics=['accuracy'])\n",
    "    reduce_lr = ReduceLROnPlateau(monitor='val_loss', factor=0.2, patience=1, min_lr=0.0001)\n",
    "    early_stop = EarlyStopping(monitor='val_loss', min_delta=0, patience=2, verbose=0, mode='auto')\n",
    "\n",
    "\n",
    "    history = model.fit(train_X, train_yOHE, epochs= 4, callbacks=[reduce_lr, early_stop],  validation_data = (train_X, train_yOHE))\n",
    "\n",
    "\n",
    "    model.summary()\n",
    "    model.save(r'model_hand.h5')\n",
    "\n",
    "    # Displaying the accuracies & losses for train & validation set...\n",
    "\n",
    "    print(\"The validation accuracy is :\", history.history['val_accuracy'])\n",
    "    print(\"The training accuracy is :\", history.history['accuracy'])\n",
    "    print(\"The validation loss is :\", history.history['val_loss'])\n",
    "    print(\"The training loss is :\", history.history['loss'])\n",
    "    \n",
    "else:\n",
    "    model = tf.keras.models.load_model(r'C:\\Users\\prabh\\Downloads\\IIITNR\\IV-SEM\\MP-I\\Final\\Code\\model_hand.h5')\n",
    "    "
   ]
  },
  {
   "cell_type": "code",
   "execution_count": null,
   "metadata": {},
   "outputs": [],
   "source": [
    "#Making model predictions...\n",
    "\n",
    "pred = model.predict(test_X[:9])\n",
    "print(test_X.shape)"
   ]
  },
  {
   "cell_type": "code",
   "execution_count": null,
   "metadata": {},
   "outputs": [
    {
     "ename": "NameError",
     "evalue": "name 'plt' is not defined",
     "output_type": "error",
     "traceback": [
      "\u001b[0;31m---------------------------------------------------------------------------\u001b[0m",
      "\u001b[0;31mNameError\u001b[0m                                 Traceback (most recent call last)",
      "\u001b[0;32m/var/folders/xp/prhddszn5zq2zgk4bth_djh40000gn/T/ipykernel_2888/3376987218.py\u001b[0m in \u001b[0;36m<module>\u001b[0;34m\u001b[0m\n\u001b[1;32m      1\u001b[0m \u001b[0;31m# Displaying some of the test images & their predicted labels...\u001b[0m\u001b[0;34m\u001b[0m\u001b[0;34m\u001b[0m\u001b[0m\n\u001b[1;32m      2\u001b[0m \u001b[0;34m\u001b[0m\u001b[0m\n\u001b[0;32m----> 3\u001b[0;31m \u001b[0mfig\u001b[0m\u001b[0;34m,\u001b[0m \u001b[0maxes\u001b[0m \u001b[0;34m=\u001b[0m \u001b[0mplt\u001b[0m\u001b[0;34m.\u001b[0m\u001b[0msubplots\u001b[0m\u001b[0;34m(\u001b[0m\u001b[0;36m3\u001b[0m\u001b[0;34m,\u001b[0m\u001b[0;36m3\u001b[0m\u001b[0;34m,\u001b[0m \u001b[0mfigsize\u001b[0m\u001b[0;34m=\u001b[0m\u001b[0;34m(\u001b[0m\u001b[0;36m8\u001b[0m\u001b[0;34m,\u001b[0m\u001b[0;36m9\u001b[0m\u001b[0;34m)\u001b[0m\u001b[0;34m)\u001b[0m\u001b[0;34m\u001b[0m\u001b[0;34m\u001b[0m\u001b[0m\n\u001b[0m\u001b[1;32m      4\u001b[0m \u001b[0maxes\u001b[0m \u001b[0;34m=\u001b[0m \u001b[0maxes\u001b[0m\u001b[0;34m.\u001b[0m\u001b[0mflatten\u001b[0m\u001b[0;34m(\u001b[0m\u001b[0;34m)\u001b[0m\u001b[0;34m\u001b[0m\u001b[0;34m\u001b[0m\u001b[0m\n\u001b[1;32m      5\u001b[0m \u001b[0;34m\u001b[0m\u001b[0m\n",
      "\u001b[0;31mNameError\u001b[0m: name 'plt' is not defined"
     ]
    }
   ],
   "source": [
    "# Displaying some of the test images & their predicted labels...\n",
    "\n",
    "fig, axes = plt.subplots(3,3, figsize=(8,9))\n",
    "axes = axes.flatten()\n",
    "\n",
    "for i,ax in enumerate(axes):\n",
    "    img = np.reshape(test_X[i], (28,28))\n",
    "    ax.imshow(img, cmap=\"Greys\")\n",
    "    pred = word_dict[np.argmax(test_yOHE[i])]\n",
    "    ax.set_title(\"Prediction: \"+pred)\n",
    "    ax.grid()"
   ]
  },
  {
   "cell_type": "code",
   "execution_count": null,
   "metadata": {},
   "outputs": [],
   "source": [
    "import cv2\n",
    "import numpy as np"
   ]
  },
  {
   "cell_type": "code",
   "execution_count": null,
   "metadata": {},
   "outputs": [
    {
     "ename": "NameError",
     "evalue": "name 'word_dict' is not defined",
     "output_type": "error",
     "traceback": [
      "\u001b[0;31m---------------------------------------------------------------------------\u001b[0m",
      "\u001b[0;31mNameError\u001b[0m                                 Traceback (most recent call last)",
      "\u001b[0;32m/var/folders/xp/prhddszn5zq2zgk4bth_djh40000gn/T/ipykernel_2888/2389141858.py\u001b[0m in \u001b[0;36m<module>\u001b[0;34m\u001b[0m\n\u001b[1;32m     15\u001b[0m \u001b[0;34m\u001b[0m\u001b[0m\n\u001b[1;32m     16\u001b[0m \u001b[0;34m\u001b[0m\u001b[0m\n\u001b[0;32m---> 17\u001b[0;31m \u001b[0mimg_pred\u001b[0m \u001b[0;34m=\u001b[0m \u001b[0mword_dict\u001b[0m\u001b[0;34m[\u001b[0m\u001b[0mnp\u001b[0m\u001b[0;34m.\u001b[0m\u001b[0margmax\u001b[0m\u001b[0;34m(\u001b[0m\u001b[0mmodel\u001b[0m\u001b[0;34m.\u001b[0m\u001b[0mpredict\u001b[0m\u001b[0;34m(\u001b[0m\u001b[0mimg_final\u001b[0m\u001b[0;34m)\u001b[0m\u001b[0;34m)\u001b[0m\u001b[0;34m]\u001b[0m\u001b[0;34m\u001b[0m\u001b[0;34m\u001b[0m\u001b[0m\n\u001b[0m\u001b[1;32m     18\u001b[0m \u001b[0;34m\u001b[0m\u001b[0m\n\u001b[1;32m     19\u001b[0m \u001b[0mcv2\u001b[0m\u001b[0;34m.\u001b[0m\u001b[0mputText\u001b[0m\u001b[0;34m(\u001b[0m\u001b[0mimg\u001b[0m\u001b[0;34m,\u001b[0m \u001b[0;34m\"Your Character: \"\u001b[0m\u001b[0;34m,\u001b[0m \u001b[0;34m(\u001b[0m\u001b[0;36m20\u001b[0m\u001b[0;34m,\u001b[0m\u001b[0;36m25\u001b[0m\u001b[0;34m)\u001b[0m\u001b[0;34m,\u001b[0m \u001b[0mcv2\u001b[0m\u001b[0;34m.\u001b[0m\u001b[0mFONT_HERSHEY_TRIPLEX\u001b[0m\u001b[0;34m,\u001b[0m \u001b[0;36m0.7\u001b[0m\u001b[0;34m,\u001b[0m \u001b[0mcolor\u001b[0m \u001b[0;34m=\u001b[0m \u001b[0;34m(\u001b[0m\u001b[0;36m0\u001b[0m\u001b[0;34m,\u001b[0m\u001b[0;36m0\u001b[0m\u001b[0;34m,\u001b[0m\u001b[0;36m230\u001b[0m\u001b[0;34m)\u001b[0m\u001b[0;34m)\u001b[0m\u001b[0;34m\u001b[0m\u001b[0;34m\u001b[0m\u001b[0m\n",
      "\u001b[0;31mNameError\u001b[0m: name 'word_dict' is not defined"
     ]
    }
   ],
   "source": [
    "# Prediction on external image...\n",
    "\n",
    "img = cv2.imread(r'/Users/khyati/Desktop/model 4/air-handwriting-detection-and-recognition/src/last_frame.jpg')\n",
    "img_copy = img.copy()\n",
    "\n",
    "img = cv2.cvtColor(img, cv2.COLOR_BGR2RGB)\n",
    "img = cv2.resize(img, (400,440))\n",
    "\n",
    "img_copy = cv2.GaussianBlur(img_copy, (7,7), 0)\n",
    "img_gray = cv2.cvtColor(img_copy, cv2.COLOR_BGR2GRAY)\n",
    "_, img_thresh = cv2.threshold(img_gray, 100, 255, cv2.THRESH_BINARY_INV)\n",
    "\n",
    "img_final = cv2.resize(img_thresh, (28,28))\n",
    "img_final =np.reshape(img_final, (1,28,28,1))\n",
    "\n",
    "\n",
    "img_pred = word_dict[np.argmax(model.predict(img_final))]\n",
    "\n",
    "cv2.putText(img, \"Your Character: \", (20,25), cv2.FONT_HERSHEY_TRIPLEX, 0.7, color = (0,0,230))\n",
    "cv2.putText(img, \"Prediction: \" + img_pred, (20,410), cv2.FONT_HERSHEY_DUPLEX, 1.3, color = (255,0,30))\n",
    "cv2.imshow('Character recognition', img)\n",
    "\n",
    "cv2.waitKey()\n",
    "while(1):\n",
    "    k = input()\n",
    "    if k == 'z':\n",
    "        break\n",
    "\n",
    "cv2.destroyAllWindows()"
   ]
  },
  {
   "cell_type": "markdown",
   "metadata": {},
   "source": [
    "## Confusion matrix"
   ]
  },
  {
   "cell_type": "code",
   "execution_count": null,
   "metadata": {},
   "outputs": [],
   "source": [
    "from sklearn.metrics import confusion_matrix\n",
    "import seaborn as sns"
   ]
  },
  {
   "cell_type": "markdown",
   "metadata": {},
   "source": [
    "### Confusion Matrix of testing model"
   ]
  },
  {
   "cell_type": "code",
   "execution_count": null,
   "metadata": {},
   "outputs": [],
   "source": [
    "labels = {'A': 0,'B': 1,'C':2,'D':3,'E':4,'F':5,'G':6,'H':7,'I':8,'J':9,'K':10,'L':11,'M':12,'N':13,'O':14,'P':15,'Q':16,'R':17,'S':18,'T':19,'U':20,'V':21,'W':22,'X':23, 'Y':24,'Z':25}"
   ]
  },
  {
   "cell_type": "code",
   "execution_count": null,
   "metadata": {},
   "outputs": [
    {
     "ename": "NameError",
     "evalue": "name 'model' is not defined",
     "output_type": "error",
     "traceback": [
      "\u001b[0;31m---------------------------------------------------------------------------\u001b[0m",
      "\u001b[0;31mNameError\u001b[0m                                 Traceback (most recent call last)",
      "\u001b[0;32m/var/folders/xp/prhddszn5zq2zgk4bth_djh40000gn/T/ipykernel_2888/891926834.py\u001b[0m in \u001b[0;36m<module>\u001b[0;34m\u001b[0m\n\u001b[0;32m----> 1\u001b[0;31m \u001b[0mpred_test\u001b[0m \u001b[0;34m=\u001b[0m \u001b[0mmodel\u001b[0m\u001b[0;34m.\u001b[0m\u001b[0mpredict\u001b[0m\u001b[0;34m(\u001b[0m\u001b[0mtest_X\u001b[0m\u001b[0;34m)\u001b[0m\u001b[0;34m\u001b[0m\u001b[0;34m\u001b[0m\u001b[0m\n\u001b[0m",
      "\u001b[0;31mNameError\u001b[0m: name 'model' is not defined"
     ]
    }
   ],
   "source": [
    "pred_test = model.predict(test_X)"
   ]
  },
  {
   "cell_type": "code",
   "execution_count": null,
   "metadata": {},
   "outputs": [],
   "source": [
    "pred_test.shape"
   ]
  },
  {
   "cell_type": "code",
   "execution_count": null,
   "metadata": {},
   "outputs": [
    {
     "ename": "NameError",
     "evalue": "name 'plt' is not defined",
     "output_type": "error",
     "traceback": [
      "\u001b[0;31m---------------------------------------------------------------------------\u001b[0m",
      "\u001b[0;31mNameError\u001b[0m                                 Traceback (most recent call last)",
      "\u001b[0;32m/var/folders/xp/prhddszn5zq2zgk4bth_djh40000gn/T/ipykernel_2888/1889120731.py\u001b[0m in \u001b[0;36m<module>\u001b[0;34m\u001b[0m\n\u001b[0;32m----> 1\u001b[0;31m \u001b[0mplt\u001b[0m\u001b[0;34m.\u001b[0m\u001b[0mfigure\u001b[0m\u001b[0;34m(\u001b[0m\u001b[0mfigsize\u001b[0m\u001b[0;34m=\u001b[0m \u001b[0;34m(\u001b[0m\u001b[0;36m16\u001b[0m\u001b[0;34m,\u001b[0m \u001b[0;36m9\u001b[0m\u001b[0;34m)\u001b[0m\u001b[0;34m)\u001b[0m\u001b[0;34m\u001b[0m\u001b[0;34m\u001b[0m\u001b[0m\n\u001b[0m\u001b[1;32m      2\u001b[0m \u001b[0my_pred_labels\u001b[0m \u001b[0;34m=\u001b[0m \u001b[0;34m[\u001b[0m\u001b[0mnp\u001b[0m\u001b[0;34m.\u001b[0m\u001b[0margmax\u001b[0m\u001b[0;34m(\u001b[0m\u001b[0mlabels\u001b[0m\u001b[0;34m)\u001b[0m \u001b[0;32mfor\u001b[0m \u001b[0mlabels\u001b[0m \u001b[0;32min\u001b[0m \u001b[0mpred_test\u001b[0m\u001b[0;34m]\u001b[0m\u001b[0;34m\u001b[0m\u001b[0;34m\u001b[0m\u001b[0m\n\u001b[1;32m      3\u001b[0m \u001b[0mcm\u001b[0m \u001b[0;34m=\u001b[0m \u001b[0mconfusion_matrix\u001b[0m\u001b[0;34m(\u001b[0m\u001b[0mtest_y\u001b[0m\u001b[0;34m,\u001b[0m \u001b[0my_pred_labels\u001b[0m\u001b[0;34m)\u001b[0m\u001b[0;34m\u001b[0m\u001b[0;34m\u001b[0m\u001b[0m\n\u001b[1;32m      4\u001b[0m \u001b[0;34m\u001b[0m\u001b[0m\n\u001b[1;32m      5\u001b[0m \u001b[0msns\u001b[0m\u001b[0;34m.\u001b[0m\u001b[0mheatmap\u001b[0m\u001b[0;34m(\u001b[0m\u001b[0mcm\u001b[0m\u001b[0;34m,\u001b[0m \u001b[0mannot\u001b[0m \u001b[0;34m=\u001b[0m \u001b[0;32mTrue\u001b[0m\u001b[0;34m,\u001b[0m \u001b[0mfmt\u001b[0m \u001b[0;34m=\u001b[0m \u001b[0;34m'd'\u001b[0m\u001b[0;34m,\u001b[0m \u001b[0mxticklabels\u001b[0m\u001b[0;34m=\u001b[0m \u001b[0mlabels\u001b[0m\u001b[0;34m,\u001b[0m \u001b[0myticklabels\u001b[0m\u001b[0;34m=\u001b[0m \u001b[0mlabels\u001b[0m\u001b[0;34m)\u001b[0m\u001b[0;34m\u001b[0m\u001b[0;34m\u001b[0m\u001b[0m\n",
      "\u001b[0;31mNameError\u001b[0m: name 'plt' is not defined"
     ]
    }
   ],
   "source": [
    "plt.figure(figsize= (16, 9))\n",
    "y_pred_labels = [np.argmax(labels) for labels in pred_test]\n",
    "cm = confusion_matrix(test_y, y_pred_labels)\n",
    "\n",
    "sns.heatmap(cm, annot = True, fmt = 'd', xticklabels= labels, yticklabels= labels)"
   ]
  },
  {
   "cell_type": "markdown",
   "metadata": {},
   "source": [
    "### Confusion Matrix of Training Model"
   ]
  },
  {
   "cell_type": "code",
   "execution_count": null,
   "metadata": {},
   "outputs": [],
   "source": [
    "pred_train = model.predict(train_X)"
   ]
  },
  {
   "cell_type": "code",
   "execution_count": null,
   "metadata": {},
   "outputs": [],
   "source": [
    "train_X.shape"
   ]
  },
  {
   "cell_type": "code",
   "execution_count": null,
   "metadata": {},
   "outputs": [],
   "source": [
    "pred_train.shape"
   ]
  },
  {
   "cell_type": "code",
   "execution_count": null,
   "metadata": {},
   "outputs": [],
   "source": [
    "plt.figure(figsize= (16, 9))\n",
    "y_pred_labels = [np.argmax(labels) for labels in pred_train]\n",
    "cm = confusion_matrix(train_y, y_pred_labels)\n",
    "\n",
    "sns.heatmap(cm, annot = True, fmt = 'd', xticklabels= labels, yticklabels= labels)"
   ]
  },
  {
   "cell_type": "markdown",
   "metadata": {},
   "source": [
    "## For performance comparision"
   ]
  },
  {
   "cell_type": "code",
   "execution_count": null,
   "metadata": {},
   "outputs": [],
   "source": [
    "# Choose between training:\n",
    "\n",
    "Training = False"
   ]
  },
  {
   "cell_type": "code",
   "execution_count": null,
   "metadata": {},
   "outputs": [],
   "source": [
    "# CNN model using ADAM optimzer\n",
    "if Training == True:\n",
    "    model_a = Sequential()\n",
    "\n",
    "    model_a.add(Conv2D(filters=32, kernel_size=(3, 3), activation='relu', input_shape=(28,28,1)))\n",
    "    model_a.add(MaxPool2D(pool_size=(2, 2), strides=2))\n",
    "\n",
    "    model_a.add(Conv2D(filters=64, kernel_size=(3, 3), activation='relu', padding = 'same'))\n",
    "    model_a.add(MaxPool2D(pool_size=(2, 2), strides=2))\n",
    "\n",
    "    model_a.add(Conv2D(filters=128, kernel_size=(3, 3), activation='relu', padding = 'valid'))\n",
    "    model_a.add(MaxPool2D(pool_size=(2, 2), strides=2))\n",
    "\n",
    "    model_a.add(Flatten())\n",
    "\n",
    "    model_a.add(Dense(64,activation =\"relu\"))\n",
    "    model_a.add(Dense(128,activation =\"relu\"))\n",
    "\n",
    "    model_a.add(Dense(26,activation =\"softmax\"))\n",
    "\n",
    "\n",
    "\n",
    "    # model.compile(optimizer = Adam(learning_rate=0.001), loss='categorical_crossentropy', metrics=['accuracy'])\n",
    "    model_a.compile(optimizer = 'adam', loss='categorical_crossentropy', metrics=['accuracy'])\n",
    "    reduce_lr = ReduceLROnPlateau(monitor='val_loss', factor=0.2, patience=1, min_lr=0.0001)\n",
    "    early_stop = EarlyStopping(monitor='val_loss', min_delta=0, patience=2, verbose=0, mode='auto')\n",
    "\n",
    "\n",
    "    history_train = model_a.fit(train_X, train_yOHE, epochs= 4, callbacks=[reduce_lr, early_stop],  validation_data = (train_X, train_yOHE))\n",
    "    history_test = model_a.fit(test_X, test_yOHE, epochs= 4, callbacks=[reduce_lr, early_stop],  validation_data = (test_X, test_yOHE))\n",
    "\n",
    "    model_a.summary()\n",
    "    model_a.save(r'model_hand_adam.h5')\n",
    "\n",
    "    \n",
    "else:\n",
    "    model_a = tf.keras.models.load_model(r'C:\\Users\\prabh\\Downloads\\IIITNR\\IV-SEM\\MP-I\\Final\\Code\\model_hand_adam.h5')"
   ]
  },
  {
   "cell_type": "code",
   "execution_count": null,
   "metadata": {},
   "outputs": [],
   "source": [
    "# CNN model using RMSProp as optimizer...\n",
    "if Training == True:\n",
    "    model_r = Sequential()\n",
    "\n",
    "    model_r.add(Conv2D(filters=32, kernel_size=(3, 3), activation='relu', input_shape=(28,28,1)))\n",
    "    model_r.add(MaxPool2D(pool_size=(2, 2), strides=2))\n",
    "\n",
    "    model_r.add(Conv2D(filters=64, kernel_size=(3, 3), activation='relu', padding = 'same'))\n",
    "    model_r.add(MaxPool2D(pool_size=(2, 2), strides=2))\n",
    "\n",
    "    model_r.add(Conv2D(filters=128, kernel_size=(3, 3), activation='relu', padding = 'valid'))\n",
    "    model_r.add(MaxPool2D(pool_size=(2, 2), strides=2))\n",
    "\n",
    "    model_r.add(Flatten())\n",
    "\n",
    "    model_r.add(Dense(64,activation =\"relu\"))\n",
    "    model_r.add(Dense(128,activation =\"relu\"))\n",
    "\n",
    "    model_r.add(Dense(26,activation =\"softmax\"))\n",
    "\n",
    "\n",
    "\n",
    "    model_r.compile(optimizer = 'rmsprop', loss='categorical_crossentropy', metrics=['accuracy'])\n",
    "    reduce_lr = ReduceLROnPlateau(monitor='val_loss', factor=0.2, patience=1, min_lr=0.0001)\n",
    "    early_stop = EarlyStopping(monitor='val_loss', min_delta=0, patience=2, verbose=0, mode='auto')\n",
    "\n",
    "\n",
    "    history_train2 = model_r.fit(train_X, train_yOHE, epochs= 4, callbacks=[reduce_lr, early_stop],  validation_data = (train_X, train_yOHE))\n",
    "    history_test2 = model_r.fit(test_X, test_yOHE, epochs= 4, callbacks=[reduce_lr, early_stop],  validation_data = (test_X, test_yOHE))\n",
    "\n",
    "    model_r.summary()\n",
    "    model_r.save(r'model_hand_rmsprop.h5')\n",
    "\n",
    "    \n",
    "else:\n",
    "    model_r = tf.keras.models.load_model(r'C:\\Users\\prabh\\Downloads\\IIITNR\\IV-SEM\\MP-I\\Final\\Code\\model_hand_rmsprop.h5')\n"
   ]
  },
  {
   "cell_type": "code",
   "execution_count": null,
   "metadata": {},
   "outputs": [],
   "source": [
    "metrics = ['loss', 'accuracy']"
   ]
  },
  {
   "cell_type": "code",
   "execution_count": null,
   "metadata": {},
   "outputs": [],
   "source": [
    "plt.figure(figsize=(10, 4))\n",
    "#Use \"For Loop\".\n",
    "for i in range(len(metrics)):\n",
    "    metric = metrics[i]\n",
    "    #set subplots to show the result\n",
    "    plt.subplot(1, 2, i+1)\n",
    "    #Titles of subplots are \"loss\" and \"accuracy\"\n",
    "    plt.title(metric) \n",
    "    plt_train1 = history_train.history[metric] \n",
    "    plt_test1 = history_test.history[metric]\n",
    "    plt_train2 = history_train2.history[metric]\n",
    "    plt_test2 = history_test2.history[metric] \n",
    "    #plot them all\n",
    "    plt.plot(plt_train1, label='train1')\n",
    "    plt.plot(plt_test1, label='test1')\n",
    "    plt.plot(plt_train2, label='train2')\n",
    "    plt.plot(plt_test2, label='test2')\n",
    "    plt.legend()\n",
    "plt.show()"
   ]
  }
 ],
 "metadata": {
  "interpreter": {
   "hash": "10fa5b18b6821efcf1a0ca8a7bbd5168ce7aee3a71c9cf3dc990838fd8f195d9"
  },
  "kernelspec": {
   "display_name": "Python 3.9.6 64-bit",
   "name": "python3"
  },
  "language_info": {
   "codemirror_mode": {
    "name": "ipython",
    "version": 3
   },
   "file_extension": ".py",
   "mimetype": "text/x-python",
   "name": "python",
   "nbconvert_exporter": "python",
   "pygments_lexer": "ipython3",
   "version": "3.9.13"
  },
  "orig_nbformat": 4
 },
 "nbformat": 4,
 "nbformat_minor": 2
}
